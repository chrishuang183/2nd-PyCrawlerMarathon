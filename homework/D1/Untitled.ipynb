{
 "cells": [
  {
   "cell_type": "code",
   "execution_count": 1,
   "metadata": {},
   "outputs": [
    {
     "name": "stdout",
     "output_type": "stream",
     "text": [
      ".ipynb_checkpoints\n",
      "1.txt\n",
      "data\n",
      "Day001_HW.ipynb\n",
      "Day001_Sample.ipynb\n",
      "example-with.txt\n",
      "example.txt\n",
      "example1.txt\n",
      "example2.txt\n",
      "Homework.txt\n",
      "Untitled.ipynb\n"
     ]
    }
   ],
   "source": [
    "from urllib.request import urlretrieve\n",
    "\n",
    "urlretrieve (\"https://www.w3.org/TR/PNG/iso_885sssss9-1.txt\", \"./1.txt\")\n",
    "\n",
    "import os,sys\n",
    "\n",
    "dirs=os.listdir('./')\n",
    "\n",
    "for file in dirs:\n",
    "    print(file)\n",
    "\n",
    "fh = open(\"example\", \"w\")\n",
    "f = fh.write(\"ssssss\\n\")\n",
    "fh.close()\n",
    "\n",
    "fh=open(\"example.txt\",)"
   ]
  },
  {
   "cell_type": "code",
   "execution_count": null,
   "metadata": {},
   "outputs": [],
   "source": [
    "dirs = os.listdir('./')\n",
    "for file in dirs:\n",
    "    printf"
   ]
  }
 ],
 "metadata": {
  "kernelspec": {
   "display_name": "Python 3",
   "language": "python",
   "name": "python3"
  },
  "language_info": {
   "codemirror_mode": {
    "name": "ipython",
    "version": 3
   },
   "file_extension": ".py",
   "mimetype": "text/x-python",
   "name": "python",
   "nbconvert_exporter": "python",
   "pygments_lexer": "ipython3",
   "version": "3.7.4"
  }
 },
 "nbformat": 4,
 "nbformat_minor": 2
}
